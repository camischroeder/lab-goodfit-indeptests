{
 "cells": [
  {
   "cell_type": "markdown",
   "metadata": {},
   "source": [
    "## Question 1\n",
    "The following table indicates the number of 6-point scores in an American rugby match in the 1979 season.\n",
    "\n",
    "![](table1.png)\n",
    "\n",
    "Based on these results, we create a Poisson distribution with the sample mean parameter  = 2.435. Is there any reason to believe that at a .05 level the number of scores is a Poisson variable?"
   ]
  },
  {
   "cell_type": "code",
   "execution_count": 1,
   "metadata": {},
   "outputs": [],
   "source": [
    "from scipy.stats import poisson, chisquare\n",
    "import pandas as pd\n",
    "import numpy as np"
   ]
  },
  {
   "cell_type": "code",
   "execution_count": 2,
   "metadata": {},
   "outputs": [
    {
     "name": "stdout",
     "output_type": "stream",
     "text": [
      "0.5991164535654849\n"
     ]
    }
   ],
   "source": [
    "rugby_table = [{\"number of scores\": 0, \"number of times\": 35},\n",
    "    {\"number of scores\": 1, \"number of times\": 99},\n",
    "    {\"number of scores\": 2, \"number of times\": 104},\n",
    "    {\"number of scores\": 3, \"number of times\": 110},\n",
    "    {\"number of scores\": 4, \"number of times\": 62},\n",
    "    {\"number of scores\": 5, \"number of times\": 25},\n",
    "    {\"number of scores\": 6, \"number of times\": 10},\n",
    "    {\"number of scores\": 7, \"number of times\": 3}]\n",
    "\n",
    "observed_rugby = [row[\"number of scores\"] for row in rugby_table for _ in range(row[\"number of times\"])]\n",
    "\n",
    "mu_rugby = 2.435\n",
    "\n",
    "expected_frequencies = [poisson.pmf(i, mu_rugby) for i in range(max(observed_rugby) + 1)]\n",
    "expected_frequencies = np.array(expected_frequencies) * len(observed_rugby) / sum(expected_frequencies)\n",
    "\n",
    "chi2_stat, p_value = chisquare(f_obs=np.bincount(observed_rugby), f_exp=expected_frequencies)\n",
    "\n",
    "print(p_value)"
   ]
  },
  {
   "cell_type": "markdown",
   "metadata": {},
   "source": [
    "## BONUS/OPTIONAL - Question 2\n",
    "Let's analyze a discrete distribution. To analyze the number of defective items in a factory in the city of Medellín, we took a random sample of n = 60 articles and observed the number of defectives in the following table:\n",
    "\n",
    "![](table2.png)\n",
    "\n",
    "A poissón distribution was proposed since it is defined for x = 0,1,2,3, .... using the following model:\n",
    "\n",
    "![](image1.png)\n",
    "\n",
    "For some extra insights check the following link: https://online.stat.psu.edu/stat504/node/63/ \n",
    "\n",
    "Does the distribution of defective items follow this distribution?"
   ]
  },
  {
   "cell_type": "code",
   "execution_count": 3,
   "metadata": {},
   "outputs": [],
   "source": [
    "# your code here"
   ]
  },
  {
   "cell_type": "markdown",
   "metadata": {},
   "source": [
    "## Question 3\n",
    "A quality control engineer takes a sample of 10 tires that come out of an assembly line, and would like to verify on the basis of the data that follows, if the number of tires with defects observed over 200 days, if it is true that 5% of all tires have defects (that is, if the sample comes from a binomial population with n = 10 and p = 0.05). \n",
    "\n",
    "![](table3.png)\n"
   ]
  },
  {
   "cell_type": "code",
   "execution_count": 4,
   "metadata": {},
   "outputs": [],
   "source": [
    "from scipy.stats import binom"
   ]
  },
  {
   "cell_type": "code",
   "execution_count": 7,
   "metadata": {},
   "outputs": [
    {
     "name": "stdout",
     "output_type": "stream",
     "text": [
      "0.036401948920931244\n"
     ]
    }
   ],
   "source": [
    "tires = [{\"number of defective items\": 0, \"observed frequency\": 138},\n",
    "    {\"number of defective items\": 1, \"observed frequency\": 53},\n",
    "    {\"number of defective items\": 2, \"observed frequency\": 9}]\n",
    "\n",
    "observed_frequencies = [item[\"observed frequency\"] for item in tires]\n",
    "defective_items = [item[\"number of defective items\"] for item in tires]\n",
    "\n",
    "total_observed = sum(observed_frequencies)\n",
    "\n",
    "n = 10\n",
    "p = 0.05\n",
    "\n",
    "expected_frequencies = [binom.pmf(k, n, p) for k in defective_items]\n",
    "expected_frequencies = np.array(expected_frequencies) / sum(expected_frequencies) * total_observed\n",
    "\n",
    "chi2_stat, p_value = chisquare(f_obs=observed_frequencies, f_exp=expected_frequencies)\n",
    "\n",
    "print(p_value)"
   ]
  },
  {
   "cell_type": "markdown",
   "metadata": {},
   "source": [
    "## Question 4\n",
    "A researcher gathers information about the patterns of Physical Activity of children in the fifth grade of primary school of a public school. He defines three categories of physical activity (Low, Medium, High). He also inquires about the regular consumption of sugary drinks at school, and defines two categories (Yes = consumed, No = not consumed). We would like to evaluate if there is an association between patterns of physical activity and the consumption of sugary drinks for the children of this school, at a level of 5% significance. The results are in the following table: \n",
    "\n",
    "![](table4.png)"
   ]
  },
  {
   "cell_type": "code",
   "execution_count": 13,
   "metadata": {},
   "outputs": [],
   "source": [
    "from scipy.stats import chi2_contingency"
   ]
  },
  {
   "cell_type": "code",
   "execution_count": 16,
   "metadata": {},
   "outputs": [
    {
     "name": "stdout",
     "output_type": "stream",
     "text": [
      "10.712198008709638\n",
      "0.013388412365655075\n"
     ]
    }
   ],
   "source": [
    "fifth_grade = [{\"sugar yes\": 32, \"sugar no\": 12, \"total\": 44},\n",
    "        {\"sugar yes\": 14, \"sugar no\": 22, \"total\": 36},\n",
    "        {\"sugar yes\": 6, \"sugar no\": 9, \"total\": 15},\n",
    "        {\"sugar yes\": 52, \"sugar no\": 43, \"total\": 95}]\n",
    "\n",
    "fifth = pd.DataFrame(fifth_grade, index=[\"low\", \"medium\", \"high\", \"total\"])\n",
    "\n",
    "observed_data = fifth[[\"sugar yes\", \"sugar no\"]].values\n",
    "chi2_stat, p_value, _, _ = chi2_contingency(observed_data)\n",
    "\n",
    "print(chi2_stat)\n",
    "print(p_value)"
   ]
  }
 ],
 "metadata": {
  "kernelspec": {
   "display_name": "Python 3",
   "language": "python",
   "name": "python3"
  },
  "language_info": {
   "codemirror_mode": {
    "name": "ipython",
    "version": 3
   },
   "file_extension": ".py",
   "mimetype": "text/x-python",
   "name": "python",
   "nbconvert_exporter": "python",
   "pygments_lexer": "ipython3",
   "version": "3.11.5"
  }
 },
 "nbformat": 4,
 "nbformat_minor": 2
}
